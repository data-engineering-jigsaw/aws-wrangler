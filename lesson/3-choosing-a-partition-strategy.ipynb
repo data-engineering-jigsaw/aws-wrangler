{
 "cells": [
  {
   "cell_type": "markdown",
   "id": "eb1ab0c3-28d3-48f0-80ec-a54329ac0b5c",
   "metadata": {},
   "source": [
    "# Choosing a Partition Strategy"
   ]
  },
  {
   "cell_type": "markdown",
   "id": "7c090b51-783e-4f58-b74c-0937c2b47f84",
   "metadata": {},
   "source": [
    "### Introduction"
   ]
  },
  {
   "cell_type": "markdown",
   "id": "e3ee0563-b067-4cb5-af07-a8c90177bba3",
   "metadata": {},
   "source": [
    "In the last lesson, we saw how we can partition our data.  And we did so by partitioning our columns by year.  In this lesson, we'll learn about some considerations when partitioning our data."
   ]
  },
  {
   "cell_type": "code",
   "execution_count": null,
   "id": "3f4b951a-531c-44ad-b38a-25d51f11bda3",
   "metadata": {},
   "outputs": [],
   "source": []
  }
 ],
 "metadata": {
  "kernelspec": {
   "display_name": "Python 3 (ipykernel)",
   "language": "python",
   "name": "python3"
  },
  "language_info": {
   "codemirror_mode": {
    "name": "ipython",
    "version": 3
   },
   "file_extension": ".py",
   "mimetype": "text/x-python",
   "name": "python",
   "nbconvert_exporter": "python",
   "pygments_lexer": "ipython3",
   "version": "3.9.12"
  }
 },
 "nbformat": 4,
 "nbformat_minor": 5
}
